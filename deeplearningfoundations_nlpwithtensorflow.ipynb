{
 "cells": [
  {
   "cell_type": "code",
   "execution_count": 2,
   "metadata": {},
   "outputs": [],
   "source": [
    "# Importing TensorFlow APIs\n",
    "import tensorflow as tf\n",
    "from tensorflow import keras\n",
    "from tensorflow.keras.preprocessing.text import Tokenizer"
   ]
  },
  {
   "cell_type": "markdown",
   "metadata": {},
   "source": [
    "## Define training sentences"
   ]
  },
  {
   "cell_type": "code",
   "execution_count": 3,
   "metadata": {},
   "outputs": [],
   "source": [
    "# Define the training sentences\n",
    "train_sentences = [\n",
    "    'It is a sunny day',\n",
    "    'It is not so sunny, but rainy instead',\n",
    "    'It is still raining, but not so sunny anymore.',\n",
    "    'Will it rain today?',\n",
    "    'It is a cloudy day'\n",
    "]"
   ]
  },
  {
   "cell_type": "markdown",
   "metadata": {},
   "source": [
    "## Configure the tokenizer"
   ]
  },
  {
   "cell_type": "code",
   "execution_count": 4,
   "metadata": {},
   "outputs": [],
   "source": [
    "# Create an instance of the tokenizer\n",
    "tokenizer = Tokenizer(num_words=200)\n",
    "\n",
    "# Train the tokenizer on training sentences\n",
    "tokenizer.fit_on_texts(train_sentences)\n",
    "\n",
    "# Store workd index for the words in the sence using the word_index attribute\n",
    "word_index = tokenizer.word_index"
   ]
  },
  {
   "cell_type": "code",
   "execution_count": 5,
   "metadata": {},
   "outputs": [
    {
     "name": "stdout",
     "output_type": "stream",
     "text": [
      "{'it': 1, 'is': 2, 'sunny': 3, 'a': 4, 'day': 5, 'not': 6, 'so': 7, 'but': 8, 'rainy': 9, 'instead': 10, 'still': 11, 'raining': 12, 'anymore': 13, 'will': 14, 'rain': 15, 'today': 16, 'cloudy': 17}\n"
     ]
    }
   ],
   "source": [
    "# Preview the word index\n",
    "print(word_index)"
   ]
  },
  {
   "cell_type": "markdown",
   "metadata": {},
   "source": [
    "Notice that the word index ignored punctuation."
   ]
  },
  {
   "cell_type": "markdown",
   "metadata": {},
   "source": [
    "## Create sequences"
   ]
  },
  {
   "cell_type": "code",
   "execution_count": 6,
   "metadata": {},
   "outputs": [],
   "source": [
    "# Create sequences using tokenizer's attribute texts_to_sequences\n",
    "sequences = tokenizer.texts_to_sequences(train_sentences)"
   ]
  },
  {
   "cell_type": "code",
   "execution_count": 7,
   "metadata": {},
   "outputs": [
    {
     "name": "stdout",
     "output_type": "stream",
     "text": [
      "Word index -->{'it': 1, 'is': 2, 'sunny': 3, 'a': 4, 'day': 5, 'not': 6, 'so': 7, 'but': 8, 'rainy': 9, 'instead': 10, 'still': 11, 'raining': 12, 'anymore': 13, 'will': 14, 'rain': 15, 'today': 16, 'cloudy': 17}\n",
      "Sequences of words -->[[1, 2, 4, 3, 5], [1, 2, 6, 7, 3, 8, 9, 10], [1, 2, 11, 12, 8, 6, 7, 3, 13], [14, 1, 15, 16], [1, 2, 4, 17, 5]]\n"
     ]
    }
   ],
   "source": [
    "# Preview the word index dictionary as well as the sequences\n",
    "print(f\"Word index -->{word_index}\") # Vocabulary\n",
    "print(f\"Sequences of words -->{sequences}\")"
   ]
  },
  {
   "cell_type": "markdown",
   "metadata": {},
   "source": [
    "Let's look at a word from the vocabulary along with a sequence."
   ]
  },
  {
   "cell_type": "code",
   "execution_count": 8,
   "metadata": {},
   "outputs": [
    {
     "name": "stdout",
     "output_type": "stream",
     "text": [
      "It is a sunny day\n",
      "[1, 2, 4, 3, 5]\n"
     ]
    }
   ],
   "source": [
    "# Print a sample sentence and a sample sequence\n",
    "print(train_sentences[0])\n",
    "print(sequences[0])"
   ]
  },
  {
   "cell_type": "markdown",
   "metadata": {},
   "source": [
    "## Tokenizing new data using the same tokenizer"
   ]
  },
  {
   "cell_type": "code",
   "execution_count": 9,
   "metadata": {},
   "outputs": [],
   "source": [
    "new_sentences = [\n",
    "    'Will it be raining today?',\n",
    "    'It is a pleasant day.'\n",
    "]"
   ]
  },
  {
   "cell_type": "code",
   "execution_count": 10,
   "metadata": {},
   "outputs": [],
   "source": [
    "new_sequences = tokenizer.texts_to_sequences(new_sentences)"
   ]
  },
  {
   "cell_type": "code",
   "execution_count": 11,
   "metadata": {},
   "outputs": [
    {
     "name": "stdout",
     "output_type": "stream",
     "text": [
      "['Will it be raining today?', 'It is a pleasant day.']\n",
      "[[14, 1, 12, 16], [1, 2, 4, 5]]\n"
     ]
    }
   ],
   "source": [
    "print(new_sentences)\n",
    "print(new_sequences)"
   ]
  },
  {
   "cell_type": "markdown",
   "metadata": {},
   "source": [
    "## Replacing newly encountered words with special values."
   ]
  },
  {
   "cell_type": "code",
   "execution_count": 12,
   "metadata": {},
   "outputs": [],
   "source": [
    "# Set up the tokenizer again with oov_taken\n",
    "tokenizer = Tokenizer(num_words=100, oov_token = \"<oov>\")\n",
    "\n",
    "# Train the new tokenizer on training sentences\n",
    "tokenizer.fit_on_texts(train_sentences)\n",
    "\n",
    "# Store word index for the words in the sentence\n",
    "word_index = tokenizer.word_index"
   ]
  },
  {
   "cell_type": "code",
   "execution_count": 13,
   "metadata": {},
   "outputs": [
    {
     "name": "stdout",
     "output_type": "stream",
     "text": [
      "{'<oov>': 1, 'it': 2, 'is': 3, 'sunny': 4, 'a': 5, 'day': 6, 'not': 7, 'so': 8, 'but': 9, 'rainy': 10, 'instead': 11, 'still': 12, 'raining': 13, 'anymore': 14, 'will': 15, 'rain': 16, 'today': 17, 'cloudy': 18}\n",
      "[[15, 2, 1, 13, 17], [2, 3, 5, 1, 6]]\n"
     ]
    }
   ],
   "source": [
    "# Create sequences of the new sentences\n",
    "new_sequences = tokenizer.texts_to_sequences(new_sentences)\n",
    "print(word_index)\n",
    "print(new_sequences)"
   ]
  },
  {
   "cell_type": "markdown",
   "metadata": {},
   "source": [
    "###### ============ "
   ]
  },
  {
   "cell_type": "markdown",
   "metadata": {},
   "source": [
    "## Other practice"
   ]
  },
  {
   "cell_type": "code",
   "execution_count": 28,
   "metadata": {},
   "outputs": [
    {
     "name": "stdout",
     "output_type": "stream",
     "text": [
      "Num GPUs Available:  0\n"
     ]
    },
    {
     "data": {
      "text/plain": [
       "[name: \"/device:CPU:0\"\n",
       " device_type: \"CPU\"\n",
       " memory_limit: 268435456\n",
       " locality {\n",
       " }\n",
       " incarnation: 15200346050800325618\n",
       " xla_global_id: -1]"
      ]
     },
     "execution_count": 28,
     "metadata": {},
     "output_type": "execute_result"
    }
   ],
   "source": [
    "# Quick example from the tutorial:\n",
    "from tensorflow.python.client import device_lib\n",
    "print(\"Num GPUs Available: \", len(tf.config.list_physical_devices('GPU')))\n",
    "device_lib.list_local_devices()"
   ]
  }
 ],
 "metadata": {
  "interpreter": {
   "hash": "53e504f846b63af1a811999597acc88fe6aaffd9feb28df8ce64f37fea06fc21"
  },
  "kernelspec": {
   "display_name": "Python 3.9.10 64-bit (windows store)",
   "language": "python",
   "name": "python3"
  },
  "language_info": {
   "codemirror_mode": {
    "name": "ipython",
    "version": 3
   },
   "file_extension": ".py",
   "mimetype": "text/x-python",
   "name": "python",
   "nbconvert_exporter": "python",
   "pygments_lexer": "ipython3",
   "version": "3.8.5"
  },
  "orig_nbformat": 4
 },
 "nbformat": 4,
 "nbformat_minor": 2
}
